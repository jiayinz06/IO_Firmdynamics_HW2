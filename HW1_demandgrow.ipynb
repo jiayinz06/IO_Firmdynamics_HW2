{
 "cells": [
  {
   "cell_type": "code",
   "execution_count": 1,
   "metadata": {},
   "outputs": [],
   "source": [
    "using Random, Distributions\n",
    "using LinearAlgebra, Statistics\n",
    "using Plots\n",
    "using CSV, DataFrames"
   ]
  },
  {
   "cell_type": "code",
   "execution_count": 2,
   "metadata": {},
   "outputs": [],
   "source": [
    "# Parameters to choose\n",
    "\n",
    "#γ = 0.05:0.05:0.2\n",
    "β = 0.8 # 4% interest rate\n",
    "\n",
    "ρ = 0.866\n",
    "σ = 0.059\n",
    "σ_0 = sqrt(σ^2/(1 - ρ^2)) # 0.12\n",
    "m = 0.088\n",
    "\n",
    "m_0 = 0.9\n",
    "f = 20\n",
    "c_e = 15\n",
    "\n",
    "α=0.2;"
   ]
  },
  {
   "cell_type": "code",
   "execution_count": 3,
   "metadata": {},
   "outputs": [
    {
     "data": {
      "text/plain": [
       "tauchen (generic function with 4 methods)"
      ]
     },
     "execution_count": 3,
     "metadata": {},
     "output_type": "execute_result"
    }
   ],
   "source": [
    "# Discretize AR(1) - Tauchen Method\n",
    "\n",
    "function tauchen(m, σ, ρ=0.866, n_std = 7, N = 120)\n",
    "    # Discretize space\n",
    "    m_s = m/(1-ρ)\n",
    "    σ_s = σ/sqrt(1-ρ^2)\n",
    "    s_min = m_s - n_std * σ_s/2\n",
    "    s_max = m_s + n_std * σ_s\n",
    "    log_s = range(s_min, s_max, length = N)\n",
    "    s = exp.(log_s)\n",
    "    d = log_s[2] - log_s[1]\n",
    "    d_half = d/2\n",
    "    \n",
    "    # Tranformation matrix\n",
    "    P = zeros(N,N)\n",
    "    for i in eachindex(log_s) \n",
    "        P[i,1] = cdf(Normal(0,1), (s_min + d_half -ρ*log_s[i]-m)/σ)\n",
    "        P[i,N] = 1 - cdf(Normal(0,1), (s_max - d_half -ρ*log_s[i]-m)/σ)\n",
    "        for j in 2:N-1\n",
    "            P[i,j] = cdf(Normal(0,1), (log_s[j] + d_half -ρ*log_s[i]-m)/σ) - cdf(Normal(0,1), (log_s[j]  - d_half -ρ*log_s[i]-m)/σ)\n",
    "        end    \n",
    "    end\n",
    "    return P,s\n",
    "end"
   ]
  },
  {
   "cell_type": "code",
   "execution_count": 4,
   "metadata": {},
   "outputs": [],
   "source": [
    "(P,s) = tauchen(m, σ);"
   ]
  },
  {
   "cell_type": "code",
   "execution_count": 5,
   "metadata": {},
   "outputs": [
    {
     "data": {
      "text/plain": [
       "findV_g (generic function with 6 methods)"
      ]
     },
     "execution_count": 5,
     "metadata": {},
     "output_type": "execute_result"
    }
   ],
   "source": [
    "# Find Value Function\n",
    "\n",
    "function findV_g(p, V0, P, s, α=0.2, f=20, β=0.8, max_it = 1e4, tol=1e-8)\n",
    "    i = 1 \n",
    "    dist = 1e3\n",
    "    V = V0\n",
    "    N = length(s)\n",
    "    \n",
    "    # optimal q\n",
    "    q = (p*s).^(1/α)\n",
    "    # profit function\n",
    "    profit = p*q - (q.^(1+α))./((1+α)*s)-f*ones(N)\n",
    "    \n",
    "    while (i < max_it) & (dist > tol)\n",
    "        V1 =  max.(0, profit + β * P'*V)\n",
    "        dist = norm(V1 - V)\n",
    "        V = V1\n",
    "        i += 1\n",
    "    end\n",
    "    \n",
    "    return V\n",
    "    \n",
    "end"
   ]
  },
  {
   "cell_type": "code",
   "execution_count": 6,
   "metadata": {},
   "outputs": [
    {
     "data": {
      "text/plain": [
       "fr_entry_g (generic function with 2 methods)"
      ]
     },
     "execution_count": 6,
     "metadata": {},
     "output_type": "execute_result"
    }
   ],
   "source": [
    "function fr_entry_g(p, P, s, g, c_e=15)\n",
    "    V0 = zeros(N)\n",
    "    V = findV_g(p, V0, P, s)\n",
    "    return  β*g'*V - c_e\n",
    "end"
   ]
  },
  {
   "cell_type": "code",
   "execution_count": 7,
   "metadata": {},
   "outputs": [
    {
     "data": {
      "text/plain": [
       "eqm_price_g (generic function with 3 methods)"
      ]
     },
     "execution_count": 7,
     "metadata": {},
     "output_type": "execute_result"
    }
   ],
   "source": [
    "function eqm_price_g(P, s, g,  max_it = 1e3, tol=1e-8)\n",
    "    p_max = 100\n",
    "    p_min = 0\n",
    "    v_e = 1e3\n",
    "    i = 0\n",
    "    \n",
    "    while (i < max_it) & (p_max - p_min > tol)\n",
    "        p = (p_max + p_min)/2\n",
    "        v_e = fr_entry_g(p, P, s, g)\n",
    "        if v_e > 0\n",
    "            p_max = p\n",
    "        else\n",
    "            p_min = p\n",
    "        end\n",
    "        i +=1\n",
    "    end\n",
    "    \n",
    "    return p_min\n",
    "end"
   ]
  },
  {
   "cell_type": "code",
   "execution_count": 8,
   "metadata": {},
   "outputs": [
    {
     "data": {
      "text/plain": [
       "exit_s_g (generic function with 3 methods)"
      ]
     },
     "execution_count": 8,
     "metadata": {},
     "output_type": "execute_result"
    }
   ],
   "source": [
    "# Exit threshold\n",
    "\n",
    "function exit_s_g(p, s, P, α=0.2, f=20)\n",
    "    v = -1\n",
    "    # optimal q\n",
    "    q = (p*s).^(1/α)\n",
    "    # profit function\n",
    "    profit = p*q - (q.^(1+α))./((1+α)*s)-f*ones(N)\n",
    "    \n",
    "    V0 = zeros(N)\n",
    "    V = profit + β*P'*findV_g(p, V0, P, s)\n",
    "    \n",
    "    return sum(V.<0)\n",
    "end"
   ]
  },
  {
   "cell_type": "code",
   "execution_count": 9,
   "metadata": {},
   "outputs": [],
   "source": [
    "# moments \n",
    "\n",
    "N = length(s)\n",
    "    \n",
    "    # Initial distribution\n",
    "    G = cdf(LogNormal(m_0,σ_0),s)\n",
    "    g = zeros(N)\n",
    "    g[1] = G[1]\n",
    "\n",
    "    for i in 2:N\n",
    "        g[i] = G[i] - G[i-1]\n",
    "    end\n",
    "    g=round.(g/sum(g),digits=4);"
   ]
  },
  {
   "cell_type": "code",
   "execution_count": 10,
   "metadata": {},
   "outputs": [],
   "source": [
    "price = eqm_price_g(P, s, g)   \n",
    "q = (price*s).^(1/0.2)\n",
    "\n",
    "# Exit rule\n",
    "k_s = exit_s_g(price,s, P)\n",
    "\n",
    "# cross section distribution\n",
    "S0 = 1 - G[k_s]\n",
    "μ0 = zeros(N)\n",
    "μ0[k_s:N]=g[k_s:N]./S0\n",
    "q0 = q'*μ0\n",
    "\n",
    "\n",
    "Prob = zeros(N)\n",
    "for i in 1:N\n",
    "    Prob[i] = sum(P[i,k_s:N])\n",
    "end\n",
    "\n",
    "# Average output\n",
    "S1 = S0 * Prob'*μ0 \n",
    "μ1 = P'*μ0*S0/S1\n",
    "q1 = q'*μ1\n",
    "\n",
    "\n",
    "S2 = S1 * Prob'*μ1 \n",
    "μ2 = P'*μ1*S1/S2\n",
    "q2 = q'*μ2\n",
    "\n",
    "S3 = S2 * Prob'*μ2 \n",
    "μ3 = P'*μ2*S2/S3\n",
    "q3 = q'*μ3\n",
    "\n",
    "S4 = S3 * Prob'*μ3 \n",
    "μ4 = P'*μ3*S3/S4\n",
    "q4 = q'*μ4\n",
    "\n",
    "S5 = S4 * Prob'*μ4 \n",
    "μ5 = P'*μ4*S4/S5\n",
    "q5 = q'*μ5\n",
    "\n",
    "# average cost\n",
    "cost = (q.^(1+α))./((1+α)*s)-f*ones(N);\n",
    "\n",
    "ac0 = cost'*μ0/q0\n",
    "ac1 = cost'*μ1/q1\n",
    "ac2 = cost'*μ2/q2\n",
    "ac3 = cost'*μ3/q3\n",
    "ac4 = cost'*μ4/q4\n",
    "ac5 = cost'*μ5/q5;"
   ]
  },
  {
   "cell_type": "code",
   "execution_count": 11,
   "metadata": {},
   "outputs": [
    {
     "name": "stdout",
     "output_type": "stream",
     "text": [
      "69.61399830649643 71.82139238235601 76.86757103652178 84.13328184427829 93.53956880613573 104.91296373593721"
     ]
    }
   ],
   "source": [
    "print(q0,\" \",q1,\" \",q2,\" \",q3,\" \",q4,\" \",q5)"
   ]
  },
  {
   "cell_type": "code",
   "execution_count": 12,
   "metadata": {},
   "outputs": [
    {
     "name": "stdout",
     "output_type": "stream",
     "text": [
      "0.5712485435069523 0.45579549066680813 0.35902761046251297 0.28243814282715224 0.22285947250694202 0.17721303741098787"
     ]
    }
   ],
   "source": [
    "print(S0,\" \",S1,\" \",S2,\" \",S3,\" \",S4,\" \",S5)"
   ]
  },
  {
   "cell_type": "code",
   "execution_count": 13,
   "metadata": {},
   "outputs": [
    {
     "name": "stdout",
     "output_type": "stream",
     "text": [
      "39.76689514028153 32.73586678128931 27.597580351299886 23.762447874051325 20.84617896266222 18.591944967434255"
     ]
    }
   ],
   "source": [
    "print(S0*q0,\" \",S1*q1,\" \",S2*q2,\" \",S3*q3,\" \",S4*q4,\" \",S5*q5)"
   ]
  },
  {
   "cell_type": "code",
   "execution_count": 14,
   "metadata": {},
   "outputs": [
    {
     "name": "stdout",
     "output_type": "stream",
     "text": [
      "2.1004525582799562 2.50401586439219 3.1391418342851067 4.246708838082343 6.585901924208639 14.44881978015842"
     ]
    }
   ],
   "source": [
    "print(price/ac0,\" \",price/ac1,\" \",price/ac2,\" \",price/ac3,\" \",price/ac4,\" \",price/ac5)"
   ]
  },
  {
   "cell_type": "code",
   "execution_count": 15,
   "metadata": {},
   "outputs": [
    {
     "data": {
      "text/plain": [
       "1.0:0.1:1.5"
      ]
     },
     "execution_count": 15,
     "metadata": {},
     "output_type": "execute_result"
    }
   ],
   "source": [
    "γ = 1:0.1:1.5"
   ]
  },
  {
   "cell_type": "code",
   "execution_count": 16,
   "metadata": {},
   "outputs": [
    {
     "name": "stdout",
     "output_type": "stream",
     "text": [
      "[0.19048577694722563, 0.17731877934863624, 0.16518800621802887, 0.15417075366605723, 0.14424019435995325, 0.135317781044507]"
     ]
    }
   ],
   "source": [
    "# Turnover - exit\n",
    "xi = zeros(6)\n",
    "for i in 1:6\n",
    "    xi[i] = ((S0-S1)/γ[i]+(S1-S2)/γ[i]^2+(S2-S3)/γ[i]^3+(S3-S4)/γ[i]^4+(S4-S5)/γ[i]^5)/(S0 + S1/γ[i]+S2/γ[i]^2+S3/γ[i]^3+S4/γ[i]^4+S5/γ[i]^5)\n",
    "end\n",
    "print(xi)"
   ]
  },
  {
   "cell_type": "code",
   "execution_count": 17,
   "metadata": {},
   "outputs": [
    {
     "name": "stdout",
     "output_type": "stream",
     "text": [
      "[0.19048577694722563, 0.27731877934863636, 0.3651880062180288, 0.4541707536660573, 0.5442401943599532, 0.635317781044507]"
     ]
    }
   ],
   "source": [
    "# Turnover - entry\n",
    "print(γ-ones(6)+xi)"
   ]
  },
  {
   "cell_type": "code",
   "execution_count": 18,
   "metadata": {},
   "outputs": [
    {
     "data": {
      "text/html": [
       "<table class=\"data-frame\"><thead><tr><th></th><th>year</th><th>sector</th><th>fage</th><th>firms</th><th>estabs</th><th>emp</th><th>denom</th><th>estabs_entry</th></tr><tr><th></th><th>Int64</th><th>String</th><th>String</th><th>Int64</th><th>Int64</th><th>Int64</th><th>Int64</th><th>String</th></tr></thead><tbody><p>12 rows × 27 columns (omitted printing of 19 columns)</p><tr><th>1</th><td>2018</td><td>44-45</td><td>a) 0</td><td>43132</td><td>43449</td><td>193935</td><td>96968</td><td>43449</td></tr><tr><th>2</th><td>2018</td><td>44-45</td><td>b) 1</td><td>36043</td><td>36596</td><td>182127</td><td>185175</td><td>63</td></tr><tr><th>3</th><td>2018</td><td>44-45</td><td>c) 2</td><td>32769</td><td>33649</td><td>190511</td><td>192813</td><td>1189</td></tr><tr><th>4</th><td>2018</td><td>44-45</td><td>d) 3</td><td>28670</td><td>29817</td><td>188771</td><td>192942</td><td>1025</td></tr><tr><th>5</th><td>2018</td><td>44-45</td><td>e) 4</td><td>26064</td><td>27532</td><td>185633</td><td>187887</td><td>931</td></tr><tr><th>6</th><td>2018</td><td>44-45</td><td>f) 5</td><td>23174</td><td>24217</td><td>162477</td><td>165576</td><td>724</td></tr><tr><th>7</th><td>2018</td><td>44-45</td><td>g) 6 to 10</td><td>90776</td><td>97963</td><td>786885</td><td>802178</td><td>2477</td></tr><tr><th>8</th><td>2018</td><td>44-45</td><td>h) 11 to 15</td><td>74236</td><td>84918</td><td>763098</td><td>769537</td><td>1820</td></tr><tr><th>9</th><td>2018</td><td>44-45</td><td>i) 16 to 20</td><td>50111</td><td>63855</td><td>634190</td><td>644065</td><td>1500</td></tr><tr><th>10</th><td>2018</td><td>44-45</td><td>j) 21 to 25</td><td>41871</td><td>58039</td><td>829552</td><td>835156</td><td>1222</td></tr><tr><th>11</th><td>2018</td><td>44-45</td><td>k) 26+</td><td>82800</td><td>178698</td><td>3110897</td><td>3116104</td><td>3519</td></tr><tr><th>12</th><td>2018</td><td>44-45</td><td>l) Left Censored</td><td>49520</td><td>306038</td><td>8550769</td><td>8591602</td><td>8613</td></tr></tbody></table>"
      ],
      "text/latex": [
       "\\begin{tabular}{r|ccccccccc}\n",
       "\t& year & sector & fage & firms & estabs & emp & denom & estabs\\_entry & \\\\\n",
       "\t\\hline\n",
       "\t& Int64 & String & String & Int64 & Int64 & Int64 & Int64 & String & \\\\\n",
       "\t\\hline\n",
       "\t1 & 2018 & 44-45 & a) 0 & 43132 & 43449 & 193935 & 96968 & 43449 & $\\dots$ \\\\\n",
       "\t2 & 2018 & 44-45 & b) 1 & 36043 & 36596 & 182127 & 185175 & 63 & $\\dots$ \\\\\n",
       "\t3 & 2018 & 44-45 & c) 2 & 32769 & 33649 & 190511 & 192813 & 1189 & $\\dots$ \\\\\n",
       "\t4 & 2018 & 44-45 & d) 3 & 28670 & 29817 & 188771 & 192942 & 1025 & $\\dots$ \\\\\n",
       "\t5 & 2018 & 44-45 & e) 4 & 26064 & 27532 & 185633 & 187887 & 931 & $\\dots$ \\\\\n",
       "\t6 & 2018 & 44-45 & f) 5 & 23174 & 24217 & 162477 & 165576 & 724 & $\\dots$ \\\\\n",
       "\t7 & 2018 & 44-45 & g) 6 to 10 & 90776 & 97963 & 786885 & 802178 & 2477 & $\\dots$ \\\\\n",
       "\t8 & 2018 & 44-45 & h) 11 to 15 & 74236 & 84918 & 763098 & 769537 & 1820 & $\\dots$ \\\\\n",
       "\t9 & 2018 & 44-45 & i) 16 to 20 & 50111 & 63855 & 634190 & 644065 & 1500 & $\\dots$ \\\\\n",
       "\t10 & 2018 & 44-45 & j) 21 to 25 & 41871 & 58039 & 829552 & 835156 & 1222 & $\\dots$ \\\\\n",
       "\t11 & 2018 & 44-45 & k) 26+ & 82800 & 178698 & 3110897 & 3116104 & 3519 & $\\dots$ \\\\\n",
       "\t12 & 2018 & 44-45 & l) Left Censored & 49520 & 306038 & 8550769 & 8591602 & 8613 & $\\dots$ \\\\\n",
       "\\end{tabular}\n"
      ],
      "text/plain": [
       "\u001b[1m12×27 DataFrame\u001b[0m\n",
       "\u001b[1m Row \u001b[0m│\u001b[1m year  \u001b[0m\u001b[1m sector \u001b[0m\u001b[1m fage             \u001b[0m\u001b[1m firms \u001b[0m\u001b[1m estabs \u001b[0m\u001b[1m emp     \u001b[0m\u001b[1m denom   \u001b[0m\u001b[1m estab\u001b[0m ⋯\n",
       "\u001b[1m     \u001b[0m│\u001b[90m Int64 \u001b[0m\u001b[90m String \u001b[0m\u001b[90m String           \u001b[0m\u001b[90m Int64 \u001b[0m\u001b[90m Int64  \u001b[0m\u001b[90m Int64   \u001b[0m\u001b[90m Int64   \u001b[0m\u001b[90m Strin\u001b[0m ⋯\n",
       "─────┼──────────────────────────────────────────────────────────────────────────\n",
       "   1 │  2018  44-45   a) 0              43132   43449   193935    96968  43449 ⋯\n",
       "   2 │  2018  44-45   b) 1              36043   36596   182127   185175  63\n",
       "   3 │  2018  44-45   c) 2              32769   33649   190511   192813  1189\n",
       "   4 │  2018  44-45   d) 3              28670   29817   188771   192942  1025\n",
       "   5 │  2018  44-45   e) 4              26064   27532   185633   187887  931   ⋯\n",
       "   6 │  2018  44-45   f) 5              23174   24217   162477   165576  724\n",
       "   7 │  2018  44-45   g) 6 to 10        90776   97963   786885   802178  2477\n",
       "   8 │  2018  44-45   h) 11 to 15       74236   84918   763098   769537  1820\n",
       "   9 │  2018  44-45   i) 16 to 20       50111   63855   634190   644065  1500  ⋯\n",
       "  10 │  2018  44-45   j) 21 to 25       41871   58039   829552   835156  1222\n",
       "  11 │  2018  44-45   k) 26+            82800  178698  3110897  3116104  3519\n",
       "  12 │  2018  44-45   l) Left Censored  49520  306038  8550769  8591602  8613\n",
       "\u001b[36m                                                              20 columns omitted\u001b[0m"
      ]
     },
     "execution_count": 18,
     "metadata": {},
     "output_type": "execute_result"
    }
   ],
   "source": [
    "df = DataFrame(CSV.File(\"/Users/yinyin/Documents/GitHub/Practice/firm_dynamics/bds2018_sector_fage.csv\",delim=','))\n",
    "d = filter([:year, :sector] => (year,sector) -> year==2018 && sector == \"44-45\" ,df)"
   ]
  },
  {
   "cell_type": "code",
   "execution_count": 19,
   "metadata": {},
   "outputs": [],
   "source": [
    "firms = zeros(6) # 6 age cohorts: entrants, 1-5, 6-10, 11-15, 16-20, 21-25\n",
    "emp = zeros(6)\n",
    "deaths = zeros(6)\n",
    "\n",
    "firms[1] = d.firms[1]*5\n",
    "emp[1] = d.emp[1]*5\n",
    "deaths[1] =0\n",
    "\n",
    "firms[2] = sum(d.firms[2:6])\n",
    "emp[2] = sum(d.emp[2:6])\n",
    "deaths[2] = sum(parse.(Int64, d.firmdeath_firms[2:6]))\n",
    "\n",
    "for i in 3:6\n",
    "    firms[i] = d.firms[4+i]\n",
    "    emp[i] = d.emp[4+i]\n",
    "    deaths[i] = parse(Int64, d.firmdeath_firms[4+i])\n",
    "end\n",
    "\n",
    "avg_emp = emp./(firms-deaths); # average employment for surviving firms\n",
    "lemp = log.(avg_emp);"
   ]
  },
  {
   "cell_type": "code",
   "execution_count": 20,
   "metadata": {},
   "outputs": [
    {
     "data": {
      "text/plain": [
       "1.018426315266197"
      ]
     },
     "execution_count": 20,
     "metadata": {},
     "output_type": "execute_result"
    }
   ],
   "source": [
    "m = zeros(6)\n",
    "m[6] = firms[1]\n",
    "m[5] = firms[2]/S1\n",
    "m[4] = firms[3]/S2\n",
    "m[3] = firms[4]/S3\n",
    "m[2] = firms[5]/S4\n",
    "m[1] = firms[6]/S5\n",
    "\n",
    "lm = log.(m)\n",
    "# log(m_{t+1}) = log(m_{t}) - log(γ)\n",
    "exp(mean(lm[1:5])-mean(lm[2:6]))"
   ]
  },
  {
   "cell_type": "code",
   "execution_count": 21,
   "metadata": {},
   "outputs": [
    {
     "name": "stdout",
     "output_type": "stream",
     "text": [
      "0.20777854624312933"
     ]
    }
   ],
   "source": [
    "γ=1.02\n",
    "# Turnover\n",
    "a = ((S0-S1)/γ+(S1-S2)/γ^2+(S2-S3)/γ^3+(S3-S4)/γ^4+(S4-S5)/γ^5)/(S0 + S1/γ+S2/γ^2+S3/γ^3+S4/γ^4+S5/γ^5)\n",
    "print(γ-1+a)"
   ]
  },
  {
   "cell_type": "code",
   "execution_count": 22,
   "metadata": {},
   "outputs": [
    {
     "data": {
      "text/plain": [
       "0.1877785462431293"
      ]
     },
     "execution_count": 22,
     "metadata": {},
     "output_type": "execute_result"
    }
   ],
   "source": [
    "a"
   ]
  },
  {
   "cell_type": "code",
   "execution_count": null,
   "metadata": {},
   "outputs": [],
   "source": []
  }
 ],
 "metadata": {
  "kernelspec": {
   "display_name": "Julia 1.5.3",
   "language": "julia",
   "name": "julia-1.5"
  },
  "language_info": {
   "file_extension": ".jl",
   "mimetype": "application/julia",
   "name": "julia",
   "version": "1.5.3"
  }
 },
 "nbformat": 4,
 "nbformat_minor": 4
}
