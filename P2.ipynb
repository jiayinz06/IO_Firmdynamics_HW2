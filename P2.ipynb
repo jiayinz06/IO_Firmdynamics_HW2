{
 "cells": [
  {
   "cell_type": "code",
   "execution_count": 1,
   "metadata": {},
   "outputs": [],
   "source": [
    "using Roots "
   ]
  },
  {
   "cell_type": "code",
   "execution_count": 2,
   "metadata": {},
   "outputs": [],
   "source": [
    "# n_e>0\n",
    "# the following 3 functions are the same"
   ]
  },
  {
   "cell_type": "code",
   "execution_count": 3,
   "metadata": {},
   "outputs": [
    {
     "data": {
      "text/plain": [
       "solve1 (generic function with 1 method)"
      ]
     },
     "execution_count": 3,
     "metadata": {},
     "output_type": "execute_result"
    }
   ],
   "source": [
    "function solve1(k)\n",
    "    f(y) = (2-k)*y^2+2*k*y-1.9*k-2\n",
    "    q1s = find_zero(f, 1.00) \n",
    "    ns = 0.45/(q1s^2-2q1s+1.9)\n",
    "    ne = 0.5 - ns*q1s\n",
    "    return q1s,ns,ne\n",
    "end"
   ]
  },
  {
   "cell_type": "code",
   "execution_count": 4,
   "metadata": {},
   "outputs": [
    {
     "data": {
      "text/plain": [
       "solve2 (generic function with 1 method)"
      ]
     },
     "execution_count": 4,
     "metadata": {},
     "output_type": "execute_result"
    }
   ],
   "source": [
    "function solve2(k)\n",
    "    f(y) = 2-2*y^2+k*(y^2-2*y+1.9)\n",
    "    q1s = find_zero(f, 1.00) \n",
    "    ns = 0.45/(q1s^2-2q1s+1.9)\n",
    "    ne = 0.5 - ns*q1s\n",
    "    return q1s,ns,ne\n",
    "end"
   ]
  },
  {
   "cell_type": "code",
   "execution_count": 5,
   "metadata": {},
   "outputs": [
    {
     "data": {
      "text/plain": [
       "solve3 (generic function with 1 method)"
      ]
     },
     "execution_count": 5,
     "metadata": {},
     "output_type": "execute_result"
    }
   ],
   "source": [
    "function solve3(k)\n",
    "    q1s = (-k+sqrt(k^2+(2-k)*(2+1.9*k)))/(2-k)\n",
    "    ns = 0.45/(q1s^2-2q1s+1.9)\n",
    "    ne = 0.5 - ns*q1s\n",
    "    return q1s,ns,q1s*ns,ne\n",
    "end"
   ]
  },
  {
   "cell_type": "code",
   "execution_count": 6,
   "metadata": {},
   "outputs": [
    {
     "data": {
      "text/plain": [
       "11-element Array{NTuple{4,Float64},1}:\n",
       " (1.0, 0.5000000000000001, 0.5000000000000001, -1.1102230246251565e-16)\n",
       " (1.02226453791689, 0.49972475735123384, 0.5108508981592891, -0.01085089815928908)\n",
       " (1.0441238871617804, 0.49892071396849036, 0.520935035254311, -0.020935035254310952)\n",
       " (1.0656673165057469, 0.4976157589856908, 0.5302928505292517, -0.03029285052925168)\n",
       " (1.0869741957120937, 0.4958325217489134, 0.5389571565359244, -0.03895715653592435)\n",
       " (1.1081165540293103, 0.4935892684738741, 0.5469544392871174, -0.0469544392871174)\n",
       " (1.129161094118169, 0.490900564465861, 0.5543058184754983, -0.05430581847549831)\n",
       " (1.1501708341823205, 0.48777776371806303, 0.5610277573911914, -0.06102775739119137)\n",
       " (1.1712065002786962, 0.48422936738106487, 0.5671325827025441, -0.06713258270254407)\n",
       " (1.1923277590971806, 0.4802612790823366, 0.5726288546693881, -0.07262885466938807)\n",
       " (1.2135943621178655, 0.47587697572631293, 0.5775216148031537, -0.07752161480315367)"
      ]
     },
     "execution_count": 6,
     "metadata": {},
     "output_type": "execute_result"
    }
   ],
   "source": [
    "k = 0:0.1:1\n",
    "results = solve3.(k)\n",
    "\n",
    "# note all n_e<0"
   ]
  },
  {
   "cell_type": "code",
   "execution_count": 7,
   "metadata": {},
   "outputs": [
    {
     "data": {
      "text/plain": [
       "solve (generic function with 1 method)"
      ]
     },
     "execution_count": 7,
     "metadata": {},
     "output_type": "execute_result"
    }
   ],
   "source": [
    "# n_e = 0\n",
    "\n",
    "function solve(k)\n",
    "    f(y) = (y^2+1.9)/(1.45*y)-2*y+0.45*k*(y^2+1.9)/(1.45*(y+1))\n",
    "    q1s = find_zero(f, 1.00) \n",
    "    ns = 1.45/(q1s^2+1.9)\n",
    "    return q1s,ns\n",
    "end"
   ]
  },
  {
   "cell_type": "code",
   "execution_count": 8,
   "metadata": {},
   "outputs": [
    {
     "data": {
      "text/plain": [
       "11-element Array{Tuple{Float64,Float64},1}:\n",
       " (1.0, 0.5)\n",
       " (1.0173773353985067, 0.49402794445702436)\n",
       " (1.0351794437609545, 0.48795319599276143)\n",
       " (1.0534256873662053, 0.4817746832230793)\n",
       " (1.0721369386353468, 0.4754912752200613)\n",
       " (1.0913357297482895, 0.4691017745135546)\n",
       " (1.1110464210144675, 0.46260490947351457)\n",
       " (1.1312953909140073, 0.45599932598724086)\n",
       " (1.1521112512632392, 0.4492835783305554)\n",
       " (1.1735250916118807, 0.44245611911401017)\n",
       " (1.19557075777752, 0.43551528816367346)"
      ]
     },
     "execution_count": 8,
     "metadata": {},
     "output_type": "execute_result"
    }
   ],
   "source": [
    "results_s = solve.(k)"
   ]
  }
 ],
 "metadata": {
  "kernelspec": {
   "display_name": "Julia 1.5.3",
   "language": "julia",
   "name": "julia-1.5"
  },
  "language_info": {
   "file_extension": ".jl",
   "mimetype": "application/julia",
   "name": "julia",
   "version": "1.5.3"
  }
 },
 "nbformat": 4,
 "nbformat_minor": 4
}
